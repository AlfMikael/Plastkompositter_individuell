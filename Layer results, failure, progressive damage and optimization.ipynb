{
 "cells": [
  {
   "cell_type": "code",
   "execution_count": 20,
   "id": "7d201960",
   "metadata": {},
   "outputs": [],
   "source": [
    "import numpy as np\n",
    "from lib.laminatelib import *\n",
    "from lib.plotlib import *"
   ]
  },
  {
   "cell_type": "code",
   "execution_count": 19,
   "id": "fc25fdd4",
   "metadata": {},
   "outputs": [],
   "source": []
  },
  {
   "cell_type": "code",
   "execution_count": 28,
   "id": "ad4fa82c",
   "metadata": {},
   "outputs": [
    {
     "name": "stdout",
     "output_type": "stream",
     "text": [
      "[ 1.71604988e-03 -9.65278056e-05  2.96942846e-20]\n",
      "[ 3.28128174e-04 -6.64459553e-05  3.41450199e-21]\n"
     ]
    }
   ],
   "source": [
    "m1={'E1':140000, 'E2':10000, 'v12':0.3, 'G12':5000}\n",
    "\n",
    "layup1  =[ {'mat':m1 , 'ori':  0  , 'thi':1} , \n",
    "           {'mat':m1 , 'ori': 90  , 'thi':1} ,\n",
    "           {'mat':m1 , 'ori':  0  , 'thi':1}  ]\n",
    "\n",
    "ABD1 = laminateStiffnessMatrix(layup1)\n",
    "\n",
    "load, defs = solveLaminateLoadCase(ABD1,Nx=500,Mx=100)\n",
    "d=result[1]\n",
    "\n",
    "print(d[0:3])  # mid-plane strains\n",
    "print(d[3:6])  # curvatures"
   ]
  },
  {
   "cell_type": "code",
   "execution_count": 29,
   "id": "5d28e915",
   "metadata": {},
   "outputs": [
    {
     "ename": "NameError",
     "evalue": "name 'layerResults' is not defined",
     "output_type": "error",
     "traceback": [
      "\u001b[1;31m---------------------------------------------------------------------------\u001b[0m",
      "\u001b[1;31mNameError\u001b[0m                                 Traceback (most recent call last)",
      "Input \u001b[1;32mIn [29]\u001b[0m, in \u001b[0;36m<module>\u001b[1;34m\u001b[0m\n\u001b[1;32m----> 1\u001b[0m res \u001b[38;5;241m=\u001b[39m \u001b[43mlayerResults\u001b[49m(layup1, defs)\n",
      "\u001b[1;31mNameError\u001b[0m: name 'layerResults' is not defined"
     ]
    }
   ],
   "source": [
    "res = layerResults(layup1, defs)"
   ]
  },
  {
   "cell_type": "code",
   "execution_count": 6,
   "id": "382945b4",
   "metadata": {},
   "outputs": [
    {
     "name": "stdout",
     "output_type": "stream",
     "text": [
      "[[2.91876348e+05 9.05823149e+03 1.80923736e-13 0.00000000e+00\n",
      "  0.00000000e+00 0.00000000e+00]\n",
      " [9.05823149e+03 1.61035226e+05 7.83078430e-12 0.00000000e+00\n",
      "  0.00000000e+00 0.00000000e+00]\n",
      " [1.80923736e-13 7.83078430e-12 1.50000000e+04 0.00000000e+00\n",
      "  0.00000000e+00 0.00000000e+00]\n",
      " [0.00000000e+00 0.00000000e+00 0.00000000e+00 3.06134675e+05\n",
      "  6.79367362e+03 1.50769780e-14]\n",
      " [0.00000000e+00 0.00000000e+00 0.00000000e+00 6.79367362e+03\n",
      "  3.35490055e+04 6.52565358e-13]\n",
      " [0.00000000e+00 0.00000000e+00 0.00000000e+00 1.50769780e-14\n",
      "  6.52565358e-13 1.12500000e+04]]\n"
     ]
    }
   ],
   "source": []
  },
  {
   "cell_type": "code",
   "execution_count": null,
   "id": "c4ed2bbb",
   "metadata": {},
   "outputs": [],
   "source": []
  }
 ],
 "metadata": {
  "kernelspec": {
   "display_name": "Python 3 (ipykernel)",
   "language": "python",
   "name": "python3"
  },
  "language_info": {
   "codemirror_mode": {
    "name": "ipython",
    "version": 3
   },
   "file_extension": ".py",
   "mimetype": "text/x-python",
   "name": "python",
   "nbconvert_exporter": "python",
   "pygments_lexer": "ipython3",
   "version": "3.9.6"
  }
 },
 "nbformat": 4,
 "nbformat_minor": 5
}
